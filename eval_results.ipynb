{
 "cells": [
  {
   "cell_type": "code",
   "execution_count": 1,
   "metadata": {},
   "outputs": [
    {
     "name": "stderr",
     "output_type": "stream",
     "text": [
      "/home/weifeng/anaconda3/lib/python3.6/importlib/_bootstrap.py:219: RuntimeWarning: numpy.dtype size changed, may indicate binary incompatibility. Expected 96, got 88\n",
      "  return f(*args, **kwds)\n",
      "/home/weifeng/anaconda3/lib/python3.6/importlib/_bootstrap.py:219: RuntimeWarning: numpy.dtype size changed, may indicate binary incompatibility. Expected 96, got 88\n",
      "  return f(*args, **kwds)\n"
     ]
    }
   ],
   "source": [
    "from skimage.measure import compare_psnr, compare_ssim\n",
    "from skimage import io\n",
    "import os\n",
    "import warnings\n",
    "warnings.filterwarnings('ignore')"
   ]
  },
  {
   "cell_type": "code",
   "execution_count": 2,
   "metadata": {},
   "outputs": [],
   "source": [
    "gt_path = './data/example_with_gt/'\n",
    "one_jump_path = './results/zssr_one_jump/'\n",
    "gradual_path = './results/zssr_gradual/'"
   ]
  },
  {
   "cell_type": "code",
   "execution_count": 3,
   "metadata": {},
   "outputs": [
    {
     "name": "stdout",
     "output_type": "stream",
     "text": [
      "baboon_gt.png  barbara_gt.png  face_gt.png  flowers_gt.png  pepper_gt.png\r\n",
      "baboon.png     barbara.png     face.png     flowers.png     pepper.png\r\n"
     ]
    }
   ],
   "source": [
    "!ls ./data/example_with_gt/"
   ]
  },
  {
   "cell_type": "code",
   "execution_count": 4,
   "metadata": {},
   "outputs": [],
   "source": [
    "imgs = ['baboon.png', 'barbara.png', 'face.png', 'flowers.png', 'pepper.png']"
   ]
  },
  {
   "cell_type": "code",
   "execution_count": 5,
   "metadata": {},
   "outputs": [],
   "source": [
    "gt_name = [os.path.splitext(img)[0]+ '_gt' + os.path.splitext(img)[1] for img in imgs]\n",
    "zssr_name = [os.path.splitext(img)[0]+ '_zssr_X2.00X2.00' + os.path.splitext(img)[1] for img in imgs]\n",
    "bicubic_name = [os.path.splitext(img)[0]+ '_bicubic_X2.00X2.00' + os.path.splitext(img)[1] for img in imgs]\n",
    "srcnn_name = [os.path.splitext(img)[0]+ '_srcnn_X2.00X2.00' + os.path.splitext(img)[1] for img in imgs]"
   ]
  },
  {
   "cell_type": "code",
   "execution_count": 6,
   "metadata": {},
   "outputs": [],
   "source": [
    "def evaluate(gnd, pred, model_str):\n",
    "    psnr = compare_psnr(gnd, pred)\n",
    "    ssim = compare_ssim(gnd, pred, data_range=pred.max()-pred.min(), multichannel=True)\n",
    "    print('{}: PSNR:{:.4f}, SSIM:{:.4f}'.format(model_str, psnr, ssim))"
   ]
  },
  {
   "cell_type": "code",
   "execution_count": 9,
   "metadata": {},
   "outputs": [
    {
     "name": "stdout",
     "output_type": "stream",
     "text": [
      "image name:baboon.png\n",
      "zssr_one_jump: PSNR:23.3776, SSIM:0.7431\n",
      "zssr_gradual: PSNR:23.5007, SSIM:0.7483\n",
      "bicubic: PSNR:22.5451, SSIM:0.6664\n",
      "srcnn: PSNR:23.1385, SSIM:0.7245\n",
      "\n",
      "image name:barbara.png\n",
      "zssr_one_jump: PSNR:27.0275, SSIM:0.8673\n",
      "zssr_gradual: PSNR:27.0473, SSIM:0.8675\n",
      "bicubic: PSNR:26.4191, SSIM:0.8272\n",
      "srcnn: PSNR:26.9882, SSIM:0.8624\n",
      "\n",
      "image name:face.png\n",
      "zssr_one_jump: PSNR:32.1461, SSIM:0.8486\n",
      "zssr_gradual: PSNR:32.2005, SSIM:0.8499\n",
      "bicubic: PSNR:31.4453, SSIM:0.8182\n",
      "srcnn: PSNR:31.9635, SSIM:0.8405\n",
      "\n",
      "image name:flowers.png\n",
      "zssr_one_jump: PSNR:31.6484, SSIM:0.9332\n",
      "zssr_gradual: PSNR:32.2469, SSIM:0.9384\n",
      "bicubic: PSNR:28.5451, SSIM:0.8920\n",
      "srcnn: PSNR:30.5926, SSIM:0.9118\n",
      "\n",
      "image name:pepper.png\n",
      "zssr_one_jump: PSNR:32.3428, SSIM:0.8646\n",
      "zssr_gradual: PSNR:32.2862, SSIM:0.8624\n",
      "bicubic: PSNR:30.4865, SSIM:0.8417\n",
      "srcnn: PSNR:31.0472, SSIM:0.8533\n",
      "\n"
     ]
    }
   ],
   "source": [
    "for i in range(len(imgs)):\n",
    "    gt_img = io.imread(gt_path+gt_name[i])\n",
    "    zssr_one_jump_img  = io.imread(one_jump_path+zssr_name[i])[:,:,:3]\n",
    "    zssr_gradual_img  = io.imread(gradual_path+zssr_name[i])[:,:,:3]\n",
    "    bicubic_img = io.imread(one_jump_path+bicubic_name[i])\n",
    "    srcnn_img = io.imread(one_jump_path+srcnn_name[i])\n",
    "    \n",
    "    print('image name:{}'.format(imgs[i]))\n",
    "    evaluate(gt_img, zssr_one_jump_img, 'zssr_one_jump')\n",
    "    evaluate(gt_img, zssr_gradual_img, 'zssr_gradual')\n",
    "    evaluate(gt_img, bicubic_img, 'bicubic')\n",
    "    evaluate(gt_img, srcnn_img, 'srcnn')\n",
    "    print('')"
   ]
  },
  {
   "cell_type": "code",
   "execution_count": null,
   "metadata": {},
   "outputs": [],
   "source": []
  }
 ],
 "metadata": {
  "kernelspec": {
   "display_name": "Python 3",
   "language": "python",
   "name": "python3"
  },
  "language_info": {
   "codemirror_mode": {
    "name": "ipython",
    "version": 3
   },
   "file_extension": ".py",
   "mimetype": "text/x-python",
   "name": "python",
   "nbconvert_exporter": "python",
   "pygments_lexer": "ipython3",
   "version": "3.6.5"
  }
 },
 "nbformat": 4,
 "nbformat_minor": 2
}
